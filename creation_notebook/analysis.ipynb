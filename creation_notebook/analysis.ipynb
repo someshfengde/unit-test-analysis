{
 "cells": [
  {
   "cell_type": "code",
   "execution_count": 208,
   "metadata": {},
   "outputs": [],
   "source": [
    "import pandas as pd \n",
    "import numpy as np \n",
    "import matplotlib.pyplot as plt\n",
    "import seaborn as sns\n",
    "from matplotlib.colors import Normalize\n",
    "import matplotlib.cm as cm \n",
    "my_norm = Normalize(vmin=0, vmax=20)\n",
    "my_cmap = cm.get_cmap('jet')\n"
   ]
  },
  {
   "cell_type": "code",
   "execution_count": 209,
   "metadata": {},
   "outputs": [],
   "source": [
    "ut_marksheet = pd.read_csv('UT2.csv')\n"
   ]
  },
  {
   "cell_type": "code",
   "execution_count": 210,
   "metadata": {},
   "outputs": [],
   "source": [
    "ut_marksheet = ut_marksheet.fillna(0)"
   ]
  },
  {
   "cell_type": "code",
   "execution_count": 211,
   "metadata": {},
   "outputs": [
    {
     "data": {
      "text/html": [
       "<div>\n",
       "<style scoped>\n",
       "    .dataframe tbody tr th:only-of-type {\n",
       "        vertical-align: middle;\n",
       "    }\n",
       "\n",
       "    .dataframe tbody tr th {\n",
       "        vertical-align: top;\n",
       "    }\n",
       "\n",
       "    .dataframe thead th {\n",
       "        text-align: right;\n",
       "    }\n",
       "</style>\n",
       "<table border=\"1\" class=\"dataframe\">\n",
       "  <thead>\n",
       "    <tr style=\"text-align: right;\">\n",
       "      <th></th>\n",
       "      <th>Roll No</th>\n",
       "      <th>Name of Student</th>\n",
       "      <th>CNUT1</th>\n",
       "      <th>CNUT2</th>\n",
       "      <th>CNAvg</th>\n",
       "      <th>DWMUT1</th>\n",
       "      <th>DWMUT2</th>\n",
       "      <th>DWMAvg</th>\n",
       "      <th>TCSUT1</th>\n",
       "      <th>TCSUT2</th>\n",
       "      <th>TCSAvg</th>\n",
       "      <th>SEUT1</th>\n",
       "      <th>SEUT2</th>\n",
       "      <th>SEAvg</th>\n",
       "    </tr>\n",
       "  </thead>\n",
       "  <tbody>\n",
       "    <tr>\n",
       "      <th>0</th>\n",
       "      <td>1</td>\n",
       "      <td>AGARWAL ARYAN</td>\n",
       "      <td>11</td>\n",
       "      <td>10</td>\n",
       "      <td>11</td>\n",
       "      <td>12</td>\n",
       "      <td>17</td>\n",
       "      <td>15</td>\n",
       "      <td>15</td>\n",
       "      <td>11</td>\n",
       "      <td>13</td>\n",
       "      <td>16.0</td>\n",
       "      <td>16</td>\n",
       "      <td>16.0</td>\n",
       "    </tr>\n",
       "    <tr>\n",
       "      <th>1</th>\n",
       "      <td>2</td>\n",
       "      <td>AGIVALE VINIT</td>\n",
       "      <td>14</td>\n",
       "      <td>14</td>\n",
       "      <td>14</td>\n",
       "      <td>15</td>\n",
       "      <td>18</td>\n",
       "      <td>17</td>\n",
       "      <td>12</td>\n",
       "      <td>11</td>\n",
       "      <td>12</td>\n",
       "      <td>15.0</td>\n",
       "      <td>18</td>\n",
       "      <td>17.0</td>\n",
       "    </tr>\n",
       "    <tr>\n",
       "      <th>2</th>\n",
       "      <td>3</td>\n",
       "      <td>ANAP JANHAVI</td>\n",
       "      <td>18</td>\n",
       "      <td>17</td>\n",
       "      <td>18</td>\n",
       "      <td>19</td>\n",
       "      <td>20</td>\n",
       "      <td>20</td>\n",
       "      <td>18</td>\n",
       "      <td>20</td>\n",
       "      <td>19</td>\n",
       "      <td>20.0</td>\n",
       "      <td>16</td>\n",
       "      <td>18.0</td>\n",
       "    </tr>\n",
       "    <tr>\n",
       "      <th>3</th>\n",
       "      <td>4</td>\n",
       "      <td>BHANUSHALI OMKAR</td>\n",
       "      <td>14</td>\n",
       "      <td>12</td>\n",
       "      <td>13</td>\n",
       "      <td>16</td>\n",
       "      <td>20</td>\n",
       "      <td>18</td>\n",
       "      <td>18</td>\n",
       "      <td>13</td>\n",
       "      <td>16</td>\n",
       "      <td>15.0</td>\n",
       "      <td>18</td>\n",
       "      <td>17.0</td>\n",
       "    </tr>\n",
       "    <tr>\n",
       "      <th>4</th>\n",
       "      <td>5</td>\n",
       "      <td>CHOUGULE OMKAR</td>\n",
       "      <td>15</td>\n",
       "      <td>17</td>\n",
       "      <td>16</td>\n",
       "      <td>19</td>\n",
       "      <td>20</td>\n",
       "      <td>20</td>\n",
       "      <td>16</td>\n",
       "      <td>19</td>\n",
       "      <td>18</td>\n",
       "      <td>19.0</td>\n",
       "      <td>20</td>\n",
       "      <td>20.0</td>\n",
       "    </tr>\n",
       "  </tbody>\n",
       "</table>\n",
       "</div>"
      ],
      "text/plain": [
       "   Roll No   Name of Student  CNUT1  CNUT2  CNAvg  DWMUT1  DWMUT2  DWMAvg  \\\n",
       "0        1     AGARWAL ARYAN     11     10     11      12      17      15   \n",
       "1        2     AGIVALE VINIT     14     14     14      15      18      17   \n",
       "2        3      ANAP JANHAVI     18     17     18      19      20      20   \n",
       "3        4  BHANUSHALI OMKAR     14     12     13      16      20      18   \n",
       "4        5    CHOUGULE OMKAR     15     17     16      19      20      20   \n",
       "\n",
       "   TCSUT1  TCSUT2  TCSAvg  SEUT1  SEUT2  SEAvg  \n",
       "0      15      11      13   16.0     16   16.0  \n",
       "1      12      11      12   15.0     18   17.0  \n",
       "2      18      20      19   20.0     16   18.0  \n",
       "3      18      13      16   15.0     18   17.0  \n",
       "4      16      19      18   19.0     20   20.0  "
      ]
     },
     "execution_count": 211,
     "metadata": {},
     "output_type": "execute_result"
    }
   ],
   "source": [
    "ut_marksheet.head()"
   ]
  },
  {
   "cell_type": "code",
   "execution_count": 212,
   "metadata": {},
   "outputs": [
    {
     "data": {
      "text/plain": [
       "Index(['Roll No', 'Name of Student', 'CNUT1', 'CNUT2', 'CNAvg', 'DWMUT1',\n",
       "       'DWMUT2', 'DWMAvg', 'TCSUT1', 'TCSUT2', 'TCSAvg', 'SEUT1', 'SEUT2',\n",
       "       'SEAvg'],\n",
       "      dtype='object')"
      ]
     },
     "execution_count": 212,
     "metadata": {},
     "output_type": "execute_result"
    }
   ],
   "source": [
    "ut_marksheet.columns"
   ]
  },
  {
   "cell_type": "code",
   "execution_count": 213,
   "metadata": {},
   "outputs": [],
   "source": [
    "plt.style.use('dark_background')"
   ]
  },
  {
   "cell_type": "code",
   "execution_count": 214,
   "metadata": {},
   "outputs": [],
   "source": [
    "for x in ut_marksheet.columns:\n",
    "    if x != 'Name of Student':\n",
    "        ut_marksheet[x] = ut_marksheet[x].astype(int)\n",
    "        # print(ut_marksheet[x].dtypes)\n",
    "\n",
    "\n"
   ]
  },
  {
   "cell_type": "code",
   "execution_count": 215,
   "metadata": {},
   "outputs": [
    {
     "name": "stdout",
     "output_type": "stream",
     "text": [
      "<class 'pandas.core.frame.DataFrame'>\n",
      "RangeIndex: 77 entries, 0 to 76\n",
      "Data columns (total 14 columns):\n",
      " #   Column           Non-Null Count  Dtype \n",
      "---  ------           --------------  ----- \n",
      " 0   Roll No          77 non-null     int64 \n",
      " 1   Name of Student  77 non-null     object\n",
      " 2   CNUT1            77 non-null     int64 \n",
      " 3   CNUT2            77 non-null     int64 \n",
      " 4   CNAvg            77 non-null     int64 \n",
      " 5   DWMUT1           77 non-null     int64 \n",
      " 6   DWMUT2           77 non-null     int64 \n",
      " 7   DWMAvg           77 non-null     int64 \n",
      " 8   TCSUT1           77 non-null     int64 \n",
      " 9   TCSUT2           77 non-null     int64 \n",
      " 10  TCSAvg           77 non-null     int64 \n",
      " 11  SEUT1            77 non-null     int64 \n",
      " 12  SEUT2            77 non-null     int64 \n",
      " 13  SEAvg            77 non-null     int64 \n",
      "dtypes: int64(13), object(1)\n",
      "memory usage: 8.5+ KB\n"
     ]
    }
   ],
   "source": [
    "ut_marksheet.info()"
   ]
  },
  {
   "cell_type": "code",
   "execution_count": 216,
   "metadata": {},
   "outputs": [],
   "source": [
    "data = ut_marksheet[ut_marksheet['Roll No'] == 24]\n"
   ]
  },
  {
   "cell_type": "markdown",
   "metadata": {},
   "source": []
  },
  {
   "cell_type": "code",
   "execution_count": 217,
   "metadata": {},
   "outputs": [
    {
     "data": {
      "text/html": [
       "<div>\n",
       "<style scoped>\n",
       "    .dataframe tbody tr th:only-of-type {\n",
       "        vertical-align: middle;\n",
       "    }\n",
       "\n",
       "    .dataframe tbody tr th {\n",
       "        vertical-align: top;\n",
       "    }\n",
       "\n",
       "    .dataframe thead th {\n",
       "        text-align: right;\n",
       "    }\n",
       "</style>\n",
       "<table border=\"1\" class=\"dataframe\">\n",
       "  <thead>\n",
       "    <tr style=\"text-align: right;\">\n",
       "      <th></th>\n",
       "      <th>Roll No</th>\n",
       "      <th>Name of Student</th>\n",
       "      <th>CNUT1</th>\n",
       "      <th>CNUT2</th>\n",
       "      <th>CNAvg</th>\n",
       "      <th>DWMUT1</th>\n",
       "      <th>DWMUT2</th>\n",
       "      <th>DWMAvg</th>\n",
       "      <th>TCSUT1</th>\n",
       "      <th>TCSUT2</th>\n",
       "      <th>TCSAvg</th>\n",
       "      <th>SEUT1</th>\n",
       "      <th>SEUT2</th>\n",
       "      <th>SEAvg</th>\n",
       "    </tr>\n",
       "  </thead>\n",
       "  <tbody>\n",
       "    <tr>\n",
       "      <th>23</th>\n",
       "      <td>24</td>\n",
       "      <td>JAIN JAYESH</td>\n",
       "      <td>17</td>\n",
       "      <td>12</td>\n",
       "      <td>15</td>\n",
       "      <td>17</td>\n",
       "      <td>20</td>\n",
       "      <td>19</td>\n",
       "      <td>19</td>\n",
       "      <td>15</td>\n",
       "      <td>17</td>\n",
       "      <td>16</td>\n",
       "      <td>16</td>\n",
       "      <td>16</td>\n",
       "    </tr>\n",
       "  </tbody>\n",
       "</table>\n",
       "</div>"
      ],
      "text/plain": [
       "    Roll No Name of Student  CNUT1  CNUT2  CNAvg  DWMUT1  DWMUT2  DWMAvg  \\\n",
       "23       24     JAIN JAYESH     17     12     15      17      20      19   \n",
       "\n",
       "    TCSUT1  TCSUT2  TCSAvg  SEUT1  SEUT2  SEAvg  \n",
       "23      19      15      17     16     16     16  "
      ]
     },
     "execution_count": 217,
     "metadata": {},
     "output_type": "execute_result"
    }
   ],
   "source": [
    "data"
   ]
  },
  {
   "cell_type": "code",
   "execution_count": 218,
   "metadata": {},
   "outputs": [
    {
     "data": {
      "text/plain": [
       "Index(['Roll No', 'Name of Student', 'CNUT1', 'CNUT2', 'CNAvg', 'DWMUT1',\n",
       "       'DWMUT2', 'DWMAvg', 'TCSUT1', 'TCSUT2', 'TCSAvg', 'SEUT1', 'SEUT2',\n",
       "       'SEAvg'],\n",
       "      dtype='object')"
      ]
     },
     "execution_count": 218,
     "metadata": {},
     "output_type": "execute_result"
    }
   ],
   "source": [
    "data.columns"
   ]
  },
  {
   "cell_type": "code",
   "execution_count": 219,
   "metadata": {},
   "outputs": [
    {
     "data": {
      "text/html": [
       "<div>\n",
       "<style scoped>\n",
       "    .dataframe tbody tr th:only-of-type {\n",
       "        vertical-align: middle;\n",
       "    }\n",
       "\n",
       "    .dataframe tbody tr th {\n",
       "        vertical-align: top;\n",
       "    }\n",
       "\n",
       "    .dataframe thead th {\n",
       "        text-align: right;\n",
       "    }\n",
       "</style>\n",
       "<table border=\"1\" class=\"dataframe\">\n",
       "  <thead>\n",
       "    <tr style=\"text-align: right;\">\n",
       "      <th></th>\n",
       "      <th>CNUT1</th>\n",
       "      <th>CNUT2</th>\n",
       "      <th>CNAvg</th>\n",
       "      <th>DWMUT1</th>\n",
       "      <th>DWMUT2</th>\n",
       "      <th>DWMAvg</th>\n",
       "      <th>TCSUT1</th>\n",
       "      <th>TCSUT2</th>\n",
       "      <th>TCSAvg</th>\n",
       "      <th>SEUT1</th>\n",
       "      <th>SEUT2</th>\n",
       "      <th>SEAvg</th>\n",
       "    </tr>\n",
       "  </thead>\n",
       "  <tbody>\n",
       "    <tr>\n",
       "      <th>23</th>\n",
       "      <td>17</td>\n",
       "      <td>12</td>\n",
       "      <td>15</td>\n",
       "      <td>17</td>\n",
       "      <td>20</td>\n",
       "      <td>19</td>\n",
       "      <td>19</td>\n",
       "      <td>15</td>\n",
       "      <td>17</td>\n",
       "      <td>16</td>\n",
       "      <td>16</td>\n",
       "      <td>16</td>\n",
       "    </tr>\n",
       "  </tbody>\n",
       "</table>\n",
       "</div>"
      ],
      "text/plain": [
       "    CNUT1  CNUT2  CNAvg  DWMUT1  DWMUT2  DWMAvg  TCSUT1  TCSUT2  TCSAvg  \\\n",
       "23     17     12     15      17      20      19      19      15      17   \n",
       "\n",
       "    SEUT1  SEUT2  SEAvg  \n",
       "23     16     16     16  "
      ]
     },
     "execution_count": 219,
     "metadata": {},
     "output_type": "execute_result"
    }
   ],
   "source": [
    "data[['CNUT1', 'CNUT2', 'CNAvg', 'DWMUT1',\n",
    "      'DWMUT2', 'DWMAvg', 'TCSUT1', 'TCSUT2', 'TCSAvg', 'SEUT1', 'SEUT2',\n",
    "      'SEAvg']]\n"
   ]
  },
  {
   "cell_type": "code",
   "execution_count": 220,
   "metadata": {},
   "outputs": [
    {
     "data": {
      "text/plain": [
       "array([17, 12, 15, 17, 20, 19, 19, 15, 17, 16, 16, 16])"
      ]
     },
     "execution_count": 220,
     "metadata": {},
     "output_type": "execute_result"
    }
   ],
   "source": [
    "data.drop(['Roll No', 'Name of Student'], axis=1).values[0]\n"
   ]
  },
  {
   "cell_type": "code",
   "execution_count": 221,
   "metadata": {},
   "outputs": [
    {
     "data": {
      "text/plain": [
       "masked_array(data=[0.85, 0.6 , 0.75, 0.85, 1.  , 0.95, 0.95, 0.75, 0.85,\n",
       "                   0.8 , 0.8 , 0.8 ],\n",
       "             mask=False,\n",
       "       fill_value=1e+20)"
      ]
     },
     "execution_count": 221,
     "metadata": {},
     "output_type": "execute_result"
    }
   ],
   "source": [
    "my_norm(data.drop(['Roll No', 'Name of Student'], axis=1).values[0])\n"
   ]
  },
  {
   "cell_type": "code",
   "execution_count": null,
   "metadata": {},
   "outputs": [],
   "source": [
    "\n"
   ]
  },
  {
   "cell_type": "code",
   "execution_count": 234,
   "metadata": {},
   "outputs": [],
   "source": [
    "def plot_marks(roll_no, df,show_avg = True,display_only_avg = False):\n",
    "    data = df[df['Roll No'] == roll_no]\n",
    "    if show_avg == True:\n",
    "        drop_cols = ['Roll No', 'Name of Student']\n",
    "    else:\n",
    "        drop_cols = ['Roll No', 'Name of Student', 'CNAvg', 'DWMAvg', 'TCSAvg', 'SEAvg']\n",
    "    \n",
    "    if display_only_avg == True:\n",
    "        show_cols = ['CNAvg', 'DWMAvg', 'TCSAvg', 'SEAvg']\n",
    "        plt.title(f'Marks of {data[\"Name of Student\"].values[0]}')\n",
    "        plt.bar(show_cols, data[show_cols].values[0], color=my_cmap(\n",
    "                my_norm(data.drop(drop_cols, axis=1).values[0])))\n",
    "        # plt.legend(['CNAvg', 'DWMAvg', 'TCSAvg', 'SEAvg'])\n",
    "        return\n",
    "    \n",
    "    plt.figure()\n",
    "    plt.title(f'Marks of {data[\"Name of Student\"].values[0]}')\n",
    "    plt.xticks(rotation=90)\n",
    "    plt.bar(data.drop(drop_cols, axis=1).columns,\n",
    "            data.drop(drop_cols, axis=1).values[0], color=my_cmap(\n",
    "                my_norm(data.drop(drop_cols, axis=1).values[0])))\n",
    "    return plt.show()\n",
    "    \n"
   ]
  },
  {
   "cell_type": "code",
   "execution_count": 235,
   "metadata": {},
   "outputs": [
    {
     "data": {
      "image/png": "[encoded data removed]",
      "text/plain": [
       "<Figure size 432x288 with 1 Axes>"
      ]
     },
     "metadata": {},
     "output_type": "display_data"
    }
   ],
   "source": [
    "plot_marks(1,df=ut_marksheet,show_avg=False,display_only_avg=False)"
   ]
  },
  {
   "cell_type": "code",
   "execution_count": 228,
   "metadata": {},
   "outputs": [
    {
     "data": {
      "text/html": [
       "<div>\n",
       "<style scoped>\n",
       "    .dataframe tbody tr th:only-of-type {\n",
       "        vertical-align: middle;\n",
       "    }\n",
       "\n",
       "    .dataframe tbody tr th {\n",
       "        vertical-align: top;\n",
       "    }\n",
       "\n",
       "    .dataframe thead th {\n",
       "        text-align: right;\n",
       "    }\n",
       "</style>\n",
       "<table border=\"1\" class=\"dataframe\">\n",
       "  <thead>\n",
       "    <tr style=\"text-align: right;\">\n",
       "      <th></th>\n",
       "      <th>Roll No</th>\n",
       "      <th>Name of Student</th>\n",
       "      <th>CNUT1</th>\n",
       "      <th>CNUT2</th>\n",
       "      <th>CNAvg</th>\n",
       "      <th>DWMUT1</th>\n",
       "      <th>DWMUT2</th>\n",
       "      <th>DWMAvg</th>\n",
       "      <th>TCSUT1</th>\n",
       "      <th>TCSUT2</th>\n",
       "      <th>TCSAvg</th>\n",
       "      <th>SEUT1</th>\n",
       "      <th>SEUT2</th>\n",
       "      <th>SEAvg</th>\n",
       "    </tr>\n",
       "  </thead>\n",
       "  <tbody>\n",
       "    <tr>\n",
       "      <th>0</th>\n",
       "      <td>1</td>\n",
       "      <td>AGARWAL ARYAN</td>\n",
       "      <td>11</td>\n",
       "      <td>10</td>\n",
       "      <td>11</td>\n",
       "      <td>12</td>\n",
       "      <td>17</td>\n",
       "      <td>15</td>\n",
       "      <td>15</td>\n",
       "      <td>11</td>\n",
       "      <td>13</td>\n",
       "      <td>16</td>\n",
       "      <td>16</td>\n",
       "      <td>16</td>\n",
       "    </tr>\n",
       "    <tr>\n",
       "      <th>1</th>\n",
       "      <td>2</td>\n",
       "      <td>AGIVALE VINIT</td>\n",
       "      <td>14</td>\n",
       "      <td>14</td>\n",
       "      <td>14</td>\n",
       "      <td>15</td>\n",
       "      <td>18</td>\n",
       "      <td>17</td>\n",
       "      <td>12</td>\n",
       "      <td>11</td>\n",
       "      <td>12</td>\n",
       "      <td>15</td>\n",
       "      <td>18</td>\n",
       "      <td>17</td>\n",
       "    </tr>\n",
       "    <tr>\n",
       "      <th>2</th>\n",
       "      <td>3</td>\n",
       "      <td>ANAP JANHAVI</td>\n",
       "      <td>18</td>\n",
       "      <td>17</td>\n",
       "      <td>18</td>\n",
       "      <td>19</td>\n",
       "      <td>20</td>\n",
       "      <td>20</td>\n",
       "      <td>18</td>\n",
       "      <td>20</td>\n",
       "      <td>19</td>\n",
       "      <td>20</td>\n",
       "      <td>16</td>\n",
       "      <td>18</td>\n",
       "    </tr>\n",
       "    <tr>\n",
       "      <th>3</th>\n",
       "      <td>4</td>\n",
       "      <td>BHANUSHALI OMKAR</td>\n",
       "      <td>14</td>\n",
       "      <td>12</td>\n",
       "      <td>13</td>\n",
       "      <td>16</td>\n",
       "      <td>20</td>\n",
       "      <td>18</td>\n",
       "      <td>18</td>\n",
       "      <td>13</td>\n",
       "      <td>16</td>\n",
       "      <td>15</td>\n",
       "      <td>18</td>\n",
       "      <td>17</td>\n",
       "    </tr>\n",
       "    <tr>\n",
       "      <th>4</th>\n",
       "      <td>5</td>\n",
       "      <td>CHOUGULE OMKAR</td>\n",
       "      <td>15</td>\n",
       "      <td>17</td>\n",
       "      <td>16</td>\n",
       "      <td>19</td>\n",
       "      <td>20</td>\n",
       "      <td>20</td>\n",
       "      <td>16</td>\n",
       "      <td>19</td>\n",
       "      <td>18</td>\n",
       "      <td>19</td>\n",
       "      <td>20</td>\n",
       "      <td>20</td>\n",
       "    </tr>\n",
       "    <tr>\n",
       "      <th>...</th>\n",
       "      <td>...</td>\n",
       "      <td>...</td>\n",
       "      <td>...</td>\n",
       "      <td>...</td>\n",
       "      <td>...</td>\n",
       "      <td>...</td>\n",
       "      <td>...</td>\n",
       "      <td>...</td>\n",
       "      <td>...</td>\n",
       "      <td>...</td>\n",
       "      <td>...</td>\n",
       "      <td>...</td>\n",
       "      <td>...</td>\n",
       "      <td>...</td>\n",
       "    </tr>\n",
       "    <tr>\n",
       "      <th>72</th>\n",
       "      <td>73</td>\n",
       "      <td>SINGH SIMRAN</td>\n",
       "      <td>12</td>\n",
       "      <td>13</td>\n",
       "      <td>13</td>\n",
       "      <td>16</td>\n",
       "      <td>20</td>\n",
       "      <td>18</td>\n",
       "      <td>15</td>\n",
       "      <td>11</td>\n",
       "      <td>13</td>\n",
       "      <td>20</td>\n",
       "      <td>16</td>\n",
       "      <td>18</td>\n",
       "    </tr>\n",
       "    <tr>\n",
       "      <th>73</th>\n",
       "      <td>74</td>\n",
       "      <td>TOTEY AARYA</td>\n",
       "      <td>12</td>\n",
       "      <td>9</td>\n",
       "      <td>11</td>\n",
       "      <td>18</td>\n",
       "      <td>19</td>\n",
       "      <td>19</td>\n",
       "      <td>14</td>\n",
       "      <td>13</td>\n",
       "      <td>14</td>\n",
       "      <td>15</td>\n",
       "      <td>19</td>\n",
       "      <td>17</td>\n",
       "    </tr>\n",
       "    <tr>\n",
       "      <th>74</th>\n",
       "      <td>75</td>\n",
       "      <td>UPADHYAY AMIT</td>\n",
       "      <td>9</td>\n",
       "      <td>9</td>\n",
       "      <td>9</td>\n",
       "      <td>14</td>\n",
       "      <td>9</td>\n",
       "      <td>12</td>\n",
       "      <td>11</td>\n",
       "      <td>8</td>\n",
       "      <td>10</td>\n",
       "      <td>10</td>\n",
       "      <td>12</td>\n",
       "      <td>11</td>\n",
       "    </tr>\n",
       "    <tr>\n",
       "      <th>75</th>\n",
       "      <td>76</td>\n",
       "      <td>YADAV ADITYA</td>\n",
       "      <td>18</td>\n",
       "      <td>15</td>\n",
       "      <td>17</td>\n",
       "      <td>18</td>\n",
       "      <td>20</td>\n",
       "      <td>19</td>\n",
       "      <td>15</td>\n",
       "      <td>14</td>\n",
       "      <td>15</td>\n",
       "      <td>20</td>\n",
       "      <td>19</td>\n",
       "      <td>20</td>\n",
       "    </tr>\n",
       "    <tr>\n",
       "      <th>76</th>\n",
       "      <td>77</td>\n",
       "      <td>ZAVERI JAINAM</td>\n",
       "      <td>16</td>\n",
       "      <td>18</td>\n",
       "      <td>17</td>\n",
       "      <td>19</td>\n",
       "      <td>20</td>\n",
       "      <td>20</td>\n",
       "      <td>18</td>\n",
       "      <td>13</td>\n",
       "      <td>16</td>\n",
       "      <td>20</td>\n",
       "      <td>20</td>\n",
       "      <td>20</td>\n",
       "    </tr>\n",
       "  </tbody>\n",
       "</table>\n",
       "<p>77 rows × 14 columns</p>\n",
       "</div>"
      ],
      "text/plain": [
       "    Roll No   Name of Student  CNUT1  CNUT2  CNAvg  DWMUT1  DWMUT2  DWMAvg  \\\n",
       "0         1     AGARWAL ARYAN     11     10     11      12      17      15   \n",
       "1         2     AGIVALE VINIT     14     14     14      15      18      17   \n",
       "2         3      ANAP JANHAVI     18     17     18      19      20      20   \n",
       "3         4  BHANUSHALI OMKAR     14     12     13      16      20      18   \n",
       "4         5    CHOUGULE OMKAR     15     17     16      19      20      20   \n",
       "..      ...               ...    ...    ...    ...     ...     ...     ...   \n",
       "72       73      SINGH SIMRAN     12     13     13      16      20      18   \n",
       "73       74       TOTEY AARYA     12      9     11      18      19      19   \n",
       "74       75     UPADHYAY AMIT      9      9      9      14       9      12   \n",
       "75       76      YADAV ADITYA     18     15     17      18      20      19   \n",
       "76       77     ZAVERI JAINAM     16     18     17      19      20      20   \n",
       "\n",
       "    TCSUT1  TCSUT2  TCSAvg  SEUT1  SEUT2  SEAvg  \n",
       "0       15      11      13     16     16     16  \n",
       "1       12      11      12     15     18     17  \n",
       "2       18      20      19     20     16     18  \n",
       "3       18      13      16     15     18     17  \n",
       "4       16      19      18     19     20     20  \n",
       "..     ...     ...     ...    ...    ...    ...  \n",
       "72      15      11      13     20     16     18  \n",
       "73      14      13      14     15     19     17  \n",
       "74      11       8      10     10     12     11  \n",
       "75      15      14      15     20     19     20  \n",
       "76      18      13      16     20     20     20  \n",
       "\n",
       "[77 rows x 14 columns]"
      ]
     },
     "execution_count": 228,
     "metadata": {},
     "output_type": "execute_result"
    }
   ],
   "source": [
    "ut_marksheet"
   ]
  },
  {
   "cell_type": "code",
   "execution_count": 253,
   "metadata": {},
   "outputs": [],
   "source": [
    "def get_diction(values):\n",
    "    diction = {}\n",
    "    # count the number of occurances of each value\n",
    "    for i in values:\n",
    "        if i in diction:\n",
    "            diction[i] += 1\n",
    "        else:\n",
    "            diction[i] = 1\n",
    "    return diction\n"
   ]
  },
  {
   "cell_type": "code",
   "execution_count": 290,
   "metadata": {},
   "outputs": [],
   "source": [
    "def plot_overall_sub(df, subject, UT_no='UT1'):\n",
    "    plt.figure()\n",
    "    column_name = subject + UT_no\n",
    "    plt.title('overall students and the marks')\n",
    "    data = sorted(df[column_name])\n",
    "    diction = get_diction(data)\n",
    "    plt.bar(x=diction.keys(),height = diction.values(),color = my_cmap(my_norm([int(x) for x in diction.keys()])))\n",
    "    plt.xlabel(f'{subject} marks')\n",
    "    plt.ylabel('Number of students')\n",
    "    plt.legend()\n",
    "    return plt.show()\n"
   ]
  },
  {
   "cell_type": "code",
   "execution_count": null,
   "metadata": {},
   "outputs": [],
   "source": []
  },
  {
   "cell_type": "code",
   "execution_count": 291,
   "metadata": {},
   "outputs": [
    {
     "name": "stderr",
     "output_type": "stream",
     "text": [
      "No handles with labels found to put in legend.\n"
     ]
    },
    {
     "data": {
      "image/png": "[encoded data removed]",
      "text/plain": [
       "<Figure size 432x288 with 1 Axes>"
      ]
     },
     "metadata": {},
     "output_type": "display_data"
    }
   ],
   "source": [
    "plot_overall_sub(ut_marksheet, 'CN',UT_no= 'Avg')"
   ]
  },
  {
   "cell_type": "code",
   "execution_count": 292,
   "metadata": {},
   "outputs": [],
   "source": [
    "def get_hi_low(df, ut = \"UT1\"):\n",
    "    sub = ['DWM','TCS','SE','CN']\n",
    "    diction = {}\n",
    "    for x in sub:\n",
    "        column_name = x + ut\n",
    "        data = df[column_name]\n",
    "        diction[x] = (data.max(),data.min())\n",
    "    return diction\n",
    "    \n",
    "\n"
   ]
  },
  {
   "cell_type": "code",
   "execution_count": 300,
   "metadata": {},
   "outputs": [],
   "source": [
    "def all_sub_hi_low_plot(df,ut = \"UT1\"):\n",
    "    plt.figure()\n",
    "    plt.title('All Subjects High and Low Marks')\n",
    "    marks = get_hi_low(df,ut)\n",
    "# plotting high and low values of all the subjects\n",
    "    for x in marks.keys():\n",
    "        plt.bar(x,marks[x],label=x,width = 0.5\n",
    "        )\n",
    "    plt.legend()\n",
    "    return plt.show()"
   ]
  },
  {
   "cell_type": "code",
   "execution_count": 301,
   "metadata": {},
   "outputs": [
    {
     "data": {
      "image/png": "[encoded data removed]",
      "text/plain": [
       "<Figure size 432x288 with 1 Axes>"
      ]
     },
     "metadata": {},
     "output_type": "display_data"
    }
   ],
   "source": [
    "all_sub_hi_low_plot(ut_marksheet)"
   ]
  },
  {
   "cell_type": "code",
   "execution_count": null,
   "metadata": {},
   "outputs": [],
   "source": []
  },
  {
   "cell_type": "code",
   "execution_count": null,
   "metadata": {},
   "outputs": [],
   "source": []
  },
  {
   "cell_type": "code",
   "execution_count": null,
   "metadata": {},
   "outputs": [],
   "source": []
  }
 ],
 "metadata": {
  "interpreter": {
   "hash": "e7370f93d1d0cde622a1f8e1c04877d8463912d04d973331ad4851f04de6915a"
  },
  "kernelspec": {
   "display_name": "Python 2.7.18 64-bit",
   "language": "python",
   "name": "python3"
  },
  "language_info": {
   "codemirror_mode": {
    "name": "ipython",
    "version": 3
   },
   "file_extension": ".py",
   "mimetype": "text/x-python",
   "name": "python",
   "nbconvert_exporter": "python",
   "pygments_lexer": "ipython3",
   "version": "3.8.10"
  },
  "orig_nbformat": 4
 },
 "nbformat": 4,
 "nbformat_minor": 2
}
